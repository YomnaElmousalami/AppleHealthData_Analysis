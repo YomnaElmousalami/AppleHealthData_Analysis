{
  "nbformat": 4,
  "nbformat_minor": 0,
  "metadata": {
    "colab": {
      "provenance": [],
      "authorship_tag": "ABX9TyO+3uPjhN7kYrVxPqRTvKCi",
      "include_colab_link": true
    },
    "kernelspec": {
      "name": "python3",
      "display_name": "Python 3"
    },
    "language_info": {
      "name": "python"
    }
  },
  "cells": [
    {
      "cell_type": "markdown",
      "metadata": {
        "id": "view-in-github",
        "colab_type": "text"
      },
      "source": [
        "<a href=\"https://colab.research.google.com/github/YomnaElmousalami/AppleHealthData_Analysis/blob/main/Analyze_Sis_health_Data.ipynb\" target=\"_parent\"><img src=\"https://colab.research.google.com/assets/colab-badge.svg\" alt=\"Open In Colab\"/></a>"
      ]
    },
    {
      "cell_type": "code",
      "execution_count": 1,
      "metadata": {
        "colab": {
          "base_uri": "https://localhost:8080/"
        },
        "id": "XsqpCukEQkXb",
        "outputId": "8e115e88-2edc-4b12-cdcf-7f3186a19e2c"
      },
      "outputs": [
        {
          "output_type": "stream",
          "name": "stdout",
          "text": [
            "Mounted at /content/drive\n"
          ]
        }
      ],
      "source": [
        "from google.colab import drive\n",
        "drive.mount(\"/content/drive\")"
      ]
    },
    {
      "cell_type": "code",
      "source": [
        "!pip install openpyxl\n",
        "import pandas as pd\n",
        "import xml.etree.ElementTree as ET\n",
        "import os\n",
        "from bs4 import BeautifulSoup\n",
        "import dask.dataframe as dd\n",
        "import matplotlib.pyplot as plt\n",
        "import numpy as np\n",
        "import seaborn as sns"
      ],
      "metadata": {
        "colab": {
          "base_uri": "https://localhost:8080/"
        },
        "id": "4_hLtS9PRKh1",
        "outputId": "3ef0c172-0906-4b0b-8a99-d13952fe5db2"
      },
      "execution_count": 2,
      "outputs": [
        {
          "output_type": "stream",
          "name": "stdout",
          "text": [
            "Requirement already satisfied: openpyxl in /usr/local/lib/python3.11/dist-packages (3.1.5)\n",
            "Requirement already satisfied: et-xmlfile in /usr/local/lib/python3.11/dist-packages (from openpyxl) (2.0.0)\n"
          ]
        }
      ]
    },
    {
      "cell_type": "markdown",
      "source": [
        "#Analyze the content in this folder"
      ],
      "metadata": {
        "id": "A3Ku_F10Rbfm"
      }
    },
    {
      "cell_type": "code",
      "source": [
        "folder = \"/content/drive/MyDrive/apple_health_export\"\n",
        "directory_files = os.listdir(folder)\n",
        "for i in directory_files:\n",
        "  print(i)"
      ],
      "metadata": {
        "colab": {
          "base_uri": "https://localhost:8080/"
        },
        "id": "N5QyJ3-RRa0b",
        "outputId": "c25c6dd6-9764-434a-8a46-96c1ef92c6c8"
      },
      "execution_count": 3,
      "outputs": [
        {
          "output_type": "stream",
          "name": "stdout",
          "text": [
            "export.xml\n",
            "electrocardiograms\n",
            "export_cda.xml\n",
            "workout-routes\n"
          ]
        }
      ]
    },
    {
      "cell_type": "markdown",
      "source": [
        "#Work on the first file"
      ],
      "metadata": {
        "id": "gPilfqVHRhVZ"
      }
    },
    {
      "cell_type": "code",
      "source": [
        "file_1 = \"/content/drive/MyDrive/apple_health_export/export.xml\""
      ],
      "metadata": {
        "id": "GRWGvy18RjrT"
      },
      "execution_count": 4,
      "outputs": []
    },
    {
      "cell_type": "code",
      "source": [
        "tree = ET.parse(file_1)\n",
        "root = tree.getroot()\n",
        "# Function to extract attributes as DataFrame\n",
        "def extract_data(tag):\n",
        "    data = []\n",
        "    for elem in root.findall(tag):\n",
        "        data.append(elem.attrib)\n",
        "    return pd.DataFrame(data)\n",
        "\n",
        "# Extract tables\n",
        "export_date_df = extract_data(\"ExportDate\")\n",
        "me_df = extract_data(\"Me\")\n",
        "records_df = extract_data(\"Record\")\n",
        "workouts_df = extract_data(\"Workout\")\n",
        "activity_summary_df = extract_data(\"ActivitySummary\")"
      ],
      "metadata": {
        "id": "jp0q7BRKRnl3"
      },
      "execution_count": 5,
      "outputs": []
    },
    {
      "cell_type": "markdown",
      "source": [
        "#Make sure Each Table is Displayed Properly"
      ],
      "metadata": {
        "id": "QZuxx-jJR-mN"
      }
    },
    {
      "cell_type": "code",
      "source": [
        "export_df"
      ],
      "metadata": {
        "id": "sDiV7YdiSCpU"
      },
      "execution_count": null,
      "outputs": []
    },
    {
      "cell_type": "code",
      "source": [
        "me_df"
      ],
      "metadata": {
        "id": "i5W8k0TcSD07"
      },
      "execution_count": null,
      "outputs": []
    },
    {
      "cell_type": "code",
      "source": [
        "records_df"
      ],
      "metadata": {
        "id": "4pTOXoM8SFMy"
      },
      "execution_count": null,
      "outputs": []
    },
    {
      "cell_type": "code",
      "source": [
        "workouts_df"
      ],
      "metadata": {
        "id": "8ydUKNL_SGFi"
      },
      "execution_count": null,
      "outputs": []
    },
    {
      "cell_type": "code",
      "source": [
        "activity_summary_df"
      ],
      "metadata": {
        "id": "gAu9LcZRSHPa"
      },
      "execution_count": null,
      "outputs": []
    }
  ]
}